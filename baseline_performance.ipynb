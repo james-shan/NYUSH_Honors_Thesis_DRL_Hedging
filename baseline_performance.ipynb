{
 "cells": [
  {
   "cell_type": "code",
   "execution_count": 4,
   "metadata": {},
   "outputs": [],
   "source": [
    "\n",
    "import sys\n",
    "sys.path.insert(0, '/Users/james/Deep-Reinforcement-Learning-for-Hedging/')\n",
    "import numpy as np\n",
    "import torch\n",
    "import matplotlib.pyplot as plt\n",
    "from financial_models.asset_price_models import GBM\n",
    "from financial_models.option_price_models import BSM\n",
    "from torch import nn\n",
    "from hedging_env_gymnasium import HedgingEnv\n",
    "from baseline_agent import DeltaNeutralAgent\n",
    "\n",
    "\n",
    "seed = 345\n",
    "np.random.seed(seed)\n",
    "torch.manual_seed(seed)\n",
    "\n",
    "mu = 0.05\n",
    "dt = 1/128\n",
    "T = 1\n",
    "num_steps = T/dt\n",
    "s_0 = 1\n",
    "strike_price = s_0\n",
    "sigma = 0.15\n",
    "r = 0.01\n",
    "\n",
    "apm = GBM(mu=mu, dt=dt, s_0=s_0, sigma=sigma)\n",
    "opm = BSM(strike_price=strike_price, risk_free_interest_rate=r, volatility=sigma, T=T, dt=dt)\n",
    "env = HedgingEnv(asset_price_model=apm, dt=dt, T=T, num_steps=num_steps, trading_cost_para=1,\n",
    "                 L=1, strike_price=strike_price, int_holdings=False, initial_holding=0, mode=\"PL\",\n",
    "                 option_price_model=opm)\n"
   ]
  },
  {
   "cell_type": "code",
   "execution_count": 8,
   "metadata": {},
   "outputs": [
    {
     "data": {
      "text/plain": [
       "3.1642730139167643"
      ]
     },
     "execution_count": 8,
     "metadata": {},
     "output_type": "execute_result"
    }
   ],
   "source": [
    "\n",
    "\n",
    "# Initialize agent\n",
    "agent = DeltaNeutralAgent(max_holding=env.max_holding)\n",
    "\n",
    "# Run simulations\n",
    "num_simulations = 1000\n",
    "reward_array = np.zeros(num_simulations)\n",
    "for i in range(num_simulations):\n",
    "    episode_reward = 0\n",
    "    state,_ = env.reset()\n",
    "    done = False\n",
    "    while not done:\n",
    "        action = agent.act(state)\n",
    "        state, reward, done, _ ,_= env.step(action)\n",
    "        episode_reward += reward\n",
    "    reward_array[i] = episode_reward\n",
    "\n",
    "reward_array.mean()"
   ]
  },
  {
   "cell_type": "code",
   "execution_count": null,
   "metadata": {},
   "outputs": [],
   "source": []
  }
 ],
 "metadata": {
  "kernelspec": {
   "display_name": "base",
   "language": "python",
   "name": "python3"
  },
  "language_info": {
   "codemirror_mode": {
    "name": "ipython",
    "version": 3
   },
   "file_extension": ".py",
   "mimetype": "text/x-python",
   "name": "python",
   "nbconvert_exporter": "python",
   "pygments_lexer": "ipython3",
   "version": "3.9.13"
  }
 },
 "nbformat": 4,
 "nbformat_minor": 2
}
