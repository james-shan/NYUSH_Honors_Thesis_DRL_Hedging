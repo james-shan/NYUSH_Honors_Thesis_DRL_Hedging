{
 "cells": [
  {
   "cell_type": "code",
   "execution_count": 1,
   "metadata": {},
   "outputs": [
    {
     "name": "stderr",
     "output_type": "stream",
     "text": [
      "/Users/james/Desktop/DRL_Hedging/financial_models/option_price_models.py:78: RuntimeWarning: invalid value encountered in double_scalars\n",
      "  SABRIV = np.where(F == K, vol * B / (F ** (1 - beta)), A * B * Phi / Chi)\n"
     ]
    }
   ],
   "source": [
    "import sys\n",
    "import os\n",
    "sys.path.insert(0, '/Users/james/Desktop/DRL_Hedging/')\n",
    "\n",
    "import numpy as np\n",
    "import torch\n",
    "import matplotlib.pyplot as plt\n",
    "from financial_models.asset_price_models import GBM, StochasticVolatilityModel\n",
    "from financial_models.option_price_models import BSM, BSMSABR\n",
    "from torch import nn\n",
    "from hedging_env_gymnasium_a import HedgingEnv\n",
    "from Utils import NormalizeObservationWrapper, evaluate_drl_policy\n",
    "\n",
    "from stable_baselines3 import SAC, DDPG\n",
    "from tqdm import tqdm\n",
    "import seaborn as sns\n",
    "\n",
    "\n",
    "seed = 345\n",
    "np.random.seed(seed)\n",
    "torch.manual_seed(seed)\n",
    "\n",
    "mu = 0\n",
    "D = 5\n",
    "T = 10\n",
    "num_steps = T*D\n",
    "s_0 = 100\n",
    "strike_price = s_0\n",
    "sigma = 0.15\n",
    "r = 0\n",
    "trading_cost_para=0.003\n",
    "L=100\n",
    "v=0.6\n",
    "rho=-0.4\n",
    "\n",
    "apm = StochasticVolatilityModel(mu=mu, v=v, rho=rho, dt = 1/(252*D), s_0=s_0, sigma_0=sigma)\n",
    "opm = BSMSABR(strike_price=strike_price, risk_free_interest_rate=r, T=T/252, dt=1/(252*D),v=v, rho=rho)\n",
    "env = HedgingEnv(asset_price_model=apm, D=D, T=T, num_steps=num_steps, trading_cost_para=trading_cost_para,r=r,\n",
    "                L=L, strike_price=strike_price, initial_holding_delta=False, mode=\"PL\",\n",
    "                option_price_model=opm)\n",
    "\n",
    "env_id = \"hedging_env_gymnasium\"\n"
   ]
  },
  {
   "cell_type": "code",
   "execution_count": 2,
   "metadata": {},
   "outputs": [],
   "source": [
    "state, info = env.reset()\n",
    "liability = state[3]*L"
   ]
  },
  {
   "cell_type": "code",
   "execution_count": null,
   "metadata": {},
   "outputs": [],
   "source": []
  },
  {
   "cell_type": "code",
   "execution_count": 3,
   "metadata": {},
   "outputs": [],
   "source": [
    "normalized_env = NormalizeObservationWrapper(env)"
   ]
  },
  {
   "cell_type": "code",
   "execution_count": 4,
   "metadata": {},
   "outputs": [],
   "source": [
    "import numpy as np\n",
    "from tqdm import tqdm\n",
    "model_path = \"./trained_models\"\n",
    "save_path = \"./result_analysis\"\n",
    "\n",
    "# Load the trained models\n",
    "model_sac = SAC.load(f\"{model_path}/sac_final_sabr_3e-3\")\n",
    "model_ddpg = DDPG.load(f\"{model_path}/ddpg_final_sabr_3e-3\")\n",
    "\n",
    "\n"
   ]
  },
  {
   "cell_type": "code",
   "execution_count": 5,
   "metadata": {},
   "outputs": [
    {
     "name": "stderr",
     "output_type": "stream",
     "text": [
      "  0%|          | 0/10000 [00:00<?, ?it/s]/Users/james/Desktop/DRL_Hedging/financial_models/option_price_models.py:49: RuntimeWarning: divide by zero encountered in double_scalars\n",
      "  d_1 = (np.log(asset_price / self.strike_price) + (self.risk_free_interest_rate + self.volatility**2 / 2)\n",
      "  0%|          | 2/10000 [00:00<14:58, 11.13it/s]"
     ]
    },
    {
     "name": "stderr",
     "output_type": "stream",
     "text": [
      "100%|██████████| 10000/10000 [06:38<00:00, 25.08it/s]\n"
     ]
    },
    {
     "name": "stdout",
     "output_type": "stream",
     "text": [
      "reward mean:-46.11048882193131,\n",
      " reward std:38.38847918206031, \n",
      " costs mean:46.12901228313055, \n",
      " costs std:11.518619440674357.\n"
     ]
    },
    {
     "name": "stderr",
     "output_type": "stream",
     "text": [
      "100%|██████████| 10000/10000 [05:51<00:00, 28.45it/s]"
     ]
    },
    {
     "name": "stdout",
     "output_type": "stream",
     "text": [
      "reward mean:-51.425117394722704,\n",
      " reward std:35.43336932119792, \n",
      " costs mean:51.318339563058466, \n",
      " costs std:12.301317332789154.\n"
     ]
    },
    {
     "name": "stderr",
     "output_type": "stream",
     "text": [
      "\n"
     ]
    }
   ],
   "source": [
    "sac_rewards,sac_costs,_ = evaluate_drl_policy(normalized_env,model_sac,num_episodes=10000, pnl=False)\n",
    "ddpg_rewards,ddpg_costs,_ = evaluate_drl_policy(normalized_env,model_ddpg,num_episodes=10000, pnl=False)\n",
    "\n"
   ]
  },
  {
   "cell_type": "code",
   "execution_count": 6,
   "metadata": {},
   "outputs": [],
   "source": [
    "np.save(f\"{save_path}/sac_pnl_sabr_3e-3.npy\", sac_rewards)\n",
    "np.save(f\"{save_path}/ddpg_pnl_sabr_3e-3.npy\", ddpg_rewards)"
   ]
  },
  {
   "cell_type": "code",
   "execution_count": 7,
   "metadata": {},
   "outputs": [],
   "source": [
    "np.save(f\"{save_path}/sac_costs_sabr_3e-3.npy\", sac_costs)\n",
    "np.save(f\"{save_path}/ddpg_costs_sabr_3e-3.npy\", ddpg_costs)"
   ]
  },
  {
   "cell_type": "code",
   "execution_count": 8,
   "metadata": {},
   "outputs": [
    {
     "data": {
      "text/plain": [
       "-46.11048882193131"
      ]
     },
     "execution_count": 8,
     "metadata": {},
     "output_type": "execute_result"
    }
   ],
   "source": [
    "sac_rewards.mean()\n"
   ]
  },
  {
   "cell_type": "code",
   "execution_count": 9,
   "metadata": {},
   "outputs": [
    {
     "data": {
      "text/plain": [
       "38.38847918206031"
      ]
     },
     "execution_count": 9,
     "metadata": {},
     "output_type": "execute_result"
    }
   ],
   "source": [
    "sac_rewards.std()"
   ]
  },
  {
   "cell_type": "code",
   "execution_count": 10,
   "metadata": {},
   "outputs": [
    {
     "data": {
      "image/png": "[encoded data removed]",
      "text/plain": [
       "<Figure size 640x480 with 1 Axes>"
      ]
     },
     "metadata": {},
     "output_type": "display_data"
    }
   ],
   "source": [
    "# Plotting the histogram\n",
    "plt.hist(sac_rewards, bins=50, color='blue', edgecolor='black')\n",
    "plt.title('Histogram of Simulation Returns')\n",
    "plt.xlabel('Value')\n",
    "plt.ylabel('Frequency')\n",
    "plt.grid(True)\n",
    "plt.show()"
   ]
  },
  {
   "cell_type": "code",
   "execution_count": 11,
   "metadata": {},
   "outputs": [
    {
     "data": {
      "text/plain": [
       "-51.425117394722704"
      ]
     },
     "execution_count": 11,
     "metadata": {},
     "output_type": "execute_result"
    }
   ],
   "source": [
    "ddpg_rewards.mean()"
   ]
  },
  {
   "cell_type": "code",
   "execution_count": 12,
   "metadata": {},
   "outputs": [
    {
     "data": {
      "text/plain": [
       "35.43336932119792"
      ]
     },
     "execution_count": 12,
     "metadata": {},
     "output_type": "execute_result"
    }
   ],
   "source": [
    "ddpg_rewards.std()"
   ]
  },
  {
   "cell_type": "code",
   "execution_count": 13,
   "metadata": {},
   "outputs": [
    {
     "data": {
      "image/png": "[encoded data removed]",
      "text/plain": [
       "<Figure size 640x480 with 1 Axes>"
      ]
     },
     "metadata": {},
     "output_type": "display_data"
    }
   ],
   "source": [
    "# Plotting the histogram\n",
    "plt.hist(ddpg_rewards, bins=50, color='blue', edgecolor='black')\n",
    "plt.title('Histogram of Simulation Returns')\n",
    "plt.xlabel('Value')\n",
    "plt.ylabel('Frequency')\n",
    "plt.grid(True)\n",
    "plt.show()"
   ]
  },
  {
   "cell_type": "code",
   "execution_count": 14,
   "metadata": {},
   "outputs": [
    {
     "name": "stdout",
     "output_type": "stream",
     "text": [
      "[0.23214352]\n",
      "{'delta': 0.5203262614808536} -5.99523326421623\n",
      "[0.3991431]\n",
      "{'delta': 0.5167534690017307} -5.701937717114458\n",
      "[0.44070786]\n",
      "{'delta': 0.5513254127120344} -0.8772572310185021\n",
      "[0.47026968]\n",
      "{'delta': 0.5282375609626394} -0.988735791593074\n",
      "[0.48503888]\n",
      "{'delta': 0.5433035119044569} 1.1524900180702122\n",
      "[0.500664]\n",
      "{'delta': 0.5182882621521472} 0.5470420714515962\n",
      "[0.5144202]\n",
      "{'delta': 0.5279855376610798} -0.08708950317911113\n",
      "[0.52872264]\n",
      "{'delta': 0.490943093104611} 0.05969485929626528\n",
      "[0.5097754]\n",
      "{'delta': 0.46865833078380237} 0.8989767963880805\n",
      "[0.48411384]\n",
      "{'delta': 0.4751257394030795} 1.2320396395418098\n",
      "[0.4849336]\n",
      "{'delta': 0.46203926920437294} 3.0790087986435912\n",
      "[0.46983412]\n",
      "{'delta': 0.5108480427096622} 1.023509922634753\n",
      "[0.494401]\n",
      "{'delta': 0.489194111378286} 1.683514488373958\n",
      "[0.49446833]\n",
      "{'delta': 0.3942121807198534} -0.4026185429117852\n",
      "[0.4143401]\n",
      "{'delta': 0.3728466132070727} -3.3802371628954346\n",
      "[0.3888986]\n",
      "{'delta': 0.24324323215376448} -5.81536424669027\n",
      "[0.33862782]\n",
      "{'delta': 0.2002976774030844} -4.774207500873266\n",
      "[0.3002084]\n",
      "{'delta': 0.20212492476184557} -0.6070870455329768\n",
      "[0.2775087]\n",
      "{'delta': 0.14965090628481575} -5.442952907747463\n",
      "[0.23342201]\n",
      "{'delta': 0.12977701515809464} -2.731101755994005\n",
      "[0.1978156]\n",
      "{'delta': 0.08616058466619658} -3.5134970749340617\n",
      "[0.17622328]\n",
      "{'delta': 0.11839553069695763} 3.1497467181196632\n",
      "[0.17106906]\n",
      "{'delta': 0.10946562873878501} 0.6706214730131289\n",
      "[0.16788152]\n",
      "{'delta': 0.07214105790605659} -2.510139402165336\n",
      "[0.15076765]\n",
      "{'delta': 0.07956191406544921} 2.0582650208337636\n",
      "[0.14047107]\n",
      "{'delta': 0.03387233450105257} -6.607997085494782\n",
      "[0.12227505]\n",
      "{'delta': 0.04942224876608176} 3.447406414653162\n",
      "[0.11577949]\n",
      "{'delta': 0.06338208779565235} 2.541310942577899\n",
      "[0.11768395]\n",
      "{'delta': 0.04975743582424282} -1.257088475977436\n",
      "[0.11447406]\n",
      "{'delta': 0.030828761043972776} -2.1395976116211233\n",
      "[0.1076912]\n",
      "{'delta': 0.055461473732509814} 4.222417319602413\n",
      "[0.11457479]\n",
      "{'delta': 0.014564727830941497} -7.604426945397389\n",
      "[0.10482904]\n",
      "{'delta': 0.017209284697645412} 2.9749787714550835\n",
      "[0.10526639]\n",
      "{'delta': 0.01633912419262347} 0.4922418525071217\n",
      "[0.10804391]\n",
      "{'delta': 0.008107626769793527} -3.5564801362662872\n",
      "[0.10912192]\n",
      "{'delta': 0.006207142467691098} -0.021896711081758443\n",
      "[0.1125235]\n",
      "{'delta': 0.006856353327279796} 3.144149973704671\n",
      "[0.11941636]\n",
      "{'delta': 0.012998411647656563} 5.028197375992232\n",
      "[0.12969008]\n",
      "{'delta': 0.003083425873109227} -7.476552259155982\n",
      "[0.13163552]\n",
      "{'delta': 0.008261633298458188} 5.905054313130789\n",
      "[0.14112404]\n",
      "{'delta': 0.013140513173808847} 4.250446233362225\n",
      "[0.15369296]\n",
      "{'delta': 0.019767186096736552} 4.506943348421552\n",
      "[0.17323187]\n",
      "{'delta': 0.017608973490513925} 2.068294757151054\n",
      "[0.18494737]\n",
      "{'delta': 0.0023167060737617254} -9.958848420731004\n",
      "[0.18799934]\n",
      "{'delta': 0.0011797919962453815} 1.3578755621745795\n",
      "[0.19179595]\n",
      "{'delta': 0.0002898036152736041} -0.4780732549437388\n",
      "[0.19478023]\n",
      "{'delta': 3.893593985656778e-06} -5.937147279311377\n",
      "[0.19623888]\n",
      "{'delta': 8.710323756637921e-11} -10.661571818465813\n",
      "[0.19663033]\n",
      "{'delta': 2.1074526599340727e-18} 3.035418449287097\n",
      "[0.19912902]\n",
      "{'delta': 0.0} 8.746142618532442\n"
     ]
    }
   ],
   "source": [
    "# Function to evaluate a model\n",
    "def evaluate_model(model, env, num_episodes=1):\n",
    "    rewards = []\n",
    "    for episode in range(num_episodes):\n",
    "        obs = env.reset()[0]\n",
    "        done = False\n",
    "        total_reward = 0\n",
    "        while not done:\n",
    "            action, _ = model.predict(obs, deterministic=True)\n",
    "            print(action)\n",
    "            obs, reward, done, _, info = env.step(action)\n",
    "            print(info, reward)\n",
    "            total_reward += reward\n",
    "        rewards.append(total_reward)\n",
    "    return np.array(rewards)\n",
    "sac_rewards_test = evaluate_model(model_ddpg, normalized_env)"
   ]
  },
  {
   "cell_type": "code",
   "execution_count": null,
   "metadata": {},
   "outputs": [],
   "source": []
  },
  {
   "cell_type": "code",
   "execution_count": null,
   "metadata": {},
   "outputs": [],
   "source": []
  }
 ],
 "metadata": {
  "kernelspec": {
   "display_name": "base",
   "language": "python",
   "name": "python3"
  },
  "language_info": {
   "codemirror_mode": {
    "name": "ipython",
    "version": 3
   },
   "file_extension": ".py",
   "mimetype": "text/x-python",
   "name": "python",
   "nbconvert_exporter": "python",
   "pygments_lexer": "ipython3",
   "version": "3.9.13"
  }
 },
 "nbformat": 4,
 "nbformat_minor": 2
}
